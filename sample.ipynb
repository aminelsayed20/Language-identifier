{
 "cells": [
  {
   "metadata": {},
   "cell_type": "markdown",
   "source": "",
   "id": "8a77807f92f26ee"
  },
  {
   "metadata": {
    "ExecuteTime": {
     "end_time": "2024-05-05T01:33:38.157827Z",
     "start_time": "2024-05-05T01:33:38.139331Z"
    }
   },
   "cell_type": "code",
   "source": "",
   "id": "fbc121e30a2defb3",
   "outputs": [
    {
     "ename": "ModuleNotFoundError",
     "evalue": "No module named 'sklearn'",
     "output_type": "error",
     "traceback": [
      "\u001B[1;31m---------------------------------------------------------------------------\u001B[0m",
      "\u001B[1;31mModuleNotFoundError\u001B[0m                       Traceback (most recent call last)",
      "Cell \u001B[1;32mIn[2], line 1\u001B[0m\n\u001B[1;32m----> 1\u001B[0m \u001B[38;5;28;01mfrom\u001B[39;00m \u001B[38;5;21;01msklearn\u001B[39;00m\u001B[38;5;21;01m.\u001B[39;00m\u001B[38;5;21;01mnaive_bayes\u001B[39;00m \u001B[38;5;28;01mimport\u001B[39;00m MultinomialNB\n",
      "\u001B[1;31mModuleNotFoundError\u001B[0m: No module named 'sklearn'"
     ]
    }
   ],
   "execution_count": 2
  },
  {
   "metadata": {
    "ExecuteTime": {
     "end_time": "2024-05-08T21:57:42.121304Z",
     "start_time": "2024-05-08T21:57:41.536084Z"
    }
   },
   "cell_type": "code",
   "source": [
    "import pandas as pd\n",
    "from sklearn.feature_extraction.text import CountVectorizer\n",
    "from sklearn.naive_bayes import MultinomialNB\n",
    "from sklearn.model_selection import train_test_split\n",
    "from sklearn.metrics import accuracy_score\n",
    "\n",
    "# Load the dataset\n",
    "df = pd.read_csv('Language Detection.csv')\n",
    "\n",
    "# Split the dataset into features and labels\n",
    "X = df['Text']\n",
    "y = df['Language']\n",
    "\n",
    "# Split the dataset into training and test sets\n",
    "X_train, X_test, y_train, y_test = train_test_split(X, y, test_size=0.2, random_state=42)\n",
    "\n",
    "# Create a CountVectorizer to convert text data into numerical features\n",
    "vectorizer = CountVectorizer()\n",
    "\n",
    "# Fit and transform the training data\n",
    "X_train_vectorized = vectorizer.fit_transform(X_train)\n",
    "\n",
    "# Transform the test data\n",
    "X_test_vectorized = vectorizer.transform(X_test)\n",
    "\n",
    "# Train the Multinomial Naive Bayes classifier\n",
    "clf = MultinomialNB()\n",
    "clf.fit(X_train_vectorized, y_train)\n",
    "\n",
    "# Evaluate the model on the test set\n",
    "y_pred = clf.predict(X_test_vectorized)\n",
    "accuracy = accuracy_score(y_test, y_pred)\n",
    "print(f\"Accuracy: {accuracy:.2f}\")"
   ],
   "id": "9bb766bb415e8b4e",
   "outputs": [
    {
     "name": "stdout",
     "output_type": "stream",
     "text": [
      "Accuracy: 0.98\n"
     ]
    }
   ],
   "execution_count": 3
  },
  {
   "metadata": {
    "ExecuteTime": {
     "end_time": "2024-05-08T21:58:06.885280Z",
     "start_time": "2024-05-08T21:58:06.856201Z"
    }
   },
   "cell_type": "code",
   "source": [
    "# Define a function to predict the language of a given text\n",
    "def predict_language(text):\n",
    "    text_vector = vectorizer.transform([text])\n",
    "    predicted_language = clf.predict(text_vector)[0]\n",
    "    return predicted_language\n",
    "\n",
    "# Test the model with some sample text\n",
    "sample_texts = [\n",
    "    \"Hola, ¿cómo estás?\",\n",
    "    \"Bonjour, comment allez-vous?\",\n",
    "    \"Привет, как дела?\",\n",
    "    \"Hello, how are you?\",\n",
    "    \"مرحبا انا استخدم اللغه العربيه\"\n",
    "]\n",
    "\n",
    "for text in sample_texts:\n",
    "    predicted_language = predict_language(text)\n",
    "    print(f\"The language of '{text}' is predicted to be: {predicted_language}\")"
   ],
   "id": "edea07624d029094",
   "outputs": [
    {
     "name": "stdout",
     "output_type": "stream",
     "text": [
      "The language of 'Hola, ¿cómo estás?' is predicted to be: Spanish\n",
      "The language of 'Bonjour, comment allez-vous?' is predicted to be: French\n",
      "The language of 'Привет, как дела?' is predicted to be: Russian\n",
      "The language of 'Hello, how are you?' is predicted to be: English\n",
      "The language of 'مرحبا انا استخدم اللغه العربيه' is predicted to be: Arabic\n"
     ]
    }
   ],
   "execution_count": 4
  },
  {
   "metadata": {},
   "cell_type": "code",
   "outputs": [],
   "execution_count": null,
   "source": "",
   "id": "feaf65517770cf2"
  }
 ],
 "metadata": {
  "kernelspec": {
   "display_name": "Python 3",
   "language": "python",
   "name": "python3"
  },
  "language_info": {
   "codemirror_mode": {
    "name": "ipython",
    "version": 2
   },
   "file_extension": ".py",
   "mimetype": "text/x-python",
   "name": "python",
   "nbconvert_exporter": "python",
   "pygments_lexer": "ipython2",
   "version": "2.7.6"
  }
 },
 "nbformat": 4,
 "nbformat_minor": 5
}
